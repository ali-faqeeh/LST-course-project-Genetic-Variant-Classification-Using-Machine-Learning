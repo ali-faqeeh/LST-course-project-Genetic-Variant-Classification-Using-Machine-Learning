{
 "cells": [
  {
   "cell_type": "markdown",
   "metadata": {},
   "source": [
    "__This script is mainly for pre-processing column \"Variation\"__"
   ]
  },
  {
   "cell_type": "markdown",
   "metadata": {},
   "source": [
    "## Input preparation"
   ]
  },
  {
   "cell_type": "code",
   "execution_count": 1,
   "metadata": {
    "ExecuteTime": {
     "end_time": "2022-04-22T12:45:19.932369Z",
     "start_time": "2022-04-22T12:45:15.266482Z"
    }
   },
   "outputs": [],
   "source": [
    "import pandas as pd\n",
    "import numpy as np\n",
    "import re"
   ]
  },
  {
   "cell_type": "code",
   "execution_count": 2,
   "metadata": {
    "ExecuteTime": {
     "end_time": "2022-04-22T12:45:20.501516Z",
     "start_time": "2022-04-22T12:45:19.936421Z"
    }
   },
   "outputs": [],
   "source": [
    "## INPUT FILE IS MANUALLY ADJUSTED\n",
    "\n",
    "training_set = pd.read_csv('training_variants')\n",
    "final_file = \"training_variants_cleaned.csv\"\n",
    "\n",
    "# training_set = pd.read_csv('test_variants')\n",
    "# final_file = \"test_variants_cleaned.csv\""
   ]
  },
  {
   "cell_type": "code",
   "execution_count": 4,
   "metadata": {
    "ExecuteTime": {
     "end_time": "2022-04-22T12:45:41.233297Z",
     "start_time": "2022-04-22T12:45:41.178200Z"
    }
   },
   "outputs": [
    {
     "data": {
      "text/html": [
       "<div>\n",
       "<style scoped>\n",
       "    .dataframe tbody tr th:only-of-type {\n",
       "        vertical-align: middle;\n",
       "    }\n",
       "\n",
       "    .dataframe tbody tr th {\n",
       "        vertical-align: top;\n",
       "    }\n",
       "\n",
       "    .dataframe thead th {\n",
       "        text-align: right;\n",
       "    }\n",
       "</style>\n",
       "<table border=\"1\" class=\"dataframe\">\n",
       "  <thead>\n",
       "    <tr style=\"text-align: right;\">\n",
       "      <th></th>\n",
       "      <th>ID</th>\n",
       "      <th>Variation</th>\n",
       "    </tr>\n",
       "  </thead>\n",
       "  <tbody>\n",
       "    <tr>\n",
       "      <th>0</th>\n",
       "      <td>0</td>\n",
       "      <td>Truncating Mutations</td>\n",
       "    </tr>\n",
       "    <tr>\n",
       "      <th>1</th>\n",
       "      <td>1</td>\n",
       "      <td>W802*</td>\n",
       "    </tr>\n",
       "    <tr>\n",
       "      <th>2</th>\n",
       "      <td>2</td>\n",
       "      <td>Q249E</td>\n",
       "    </tr>\n",
       "    <tr>\n",
       "      <th>3</th>\n",
       "      <td>3</td>\n",
       "      <td>N454D</td>\n",
       "    </tr>\n",
       "    <tr>\n",
       "      <th>4</th>\n",
       "      <td>4</td>\n",
       "      <td>L399V</td>\n",
       "    </tr>\n",
       "    <tr>\n",
       "      <th>...</th>\n",
       "      <td>...</td>\n",
       "      <td>...</td>\n",
       "    </tr>\n",
       "    <tr>\n",
       "      <th>95</th>\n",
       "      <td>95</td>\n",
       "      <td>S387Y</td>\n",
       "    </tr>\n",
       "    <tr>\n",
       "      <th>96</th>\n",
       "      <td>96</td>\n",
       "      <td>TGFBR1*6A</td>\n",
       "    </tr>\n",
       "    <tr>\n",
       "      <th>97</th>\n",
       "      <td>97</td>\n",
       "      <td>R537P</td>\n",
       "    </tr>\n",
       "    <tr>\n",
       "      <th>98</th>\n",
       "      <td>98</td>\n",
       "      <td>D404G</td>\n",
       "    </tr>\n",
       "    <tr>\n",
       "      <th>99</th>\n",
       "      <td>99</td>\n",
       "      <td>P525L</td>\n",
       "    </tr>\n",
       "  </tbody>\n",
       "</table>\n",
       "<p>100 rows × 2 columns</p>\n",
       "</div>"
      ],
      "text/plain": [
       "    ID             Variation\n",
       "0    0  Truncating Mutations\n",
       "1    1                 W802*\n",
       "2    2                 Q249E\n",
       "3    3                 N454D\n",
       "4    4                 L399V\n",
       "..  ..                   ...\n",
       "95  95                 S387Y\n",
       "96  96             TGFBR1*6A\n",
       "97  97                 R537P\n",
       "98  98                 D404G\n",
       "99  99                 P525L\n",
       "\n",
       "[100 rows x 2 columns]"
      ]
     },
     "execution_count": 4,
     "metadata": {},
     "output_type": "execute_result"
    }
   ],
   "source": [
    "training_variation = training_set[[\"ID\",\"Variation\"]]"
   ]
  },
  {
   "cell_type": "markdown",
   "metadata": {},
   "source": [
    "## Categorize types of variation information"
   ]
  },
  {
   "cell_type": "markdown",
   "metadata": {},
   "source": [
    "- __Standard variation__ in form a.a+position+a.a. If there is * instead of a.a, then consider it as frameshift mutation.\n",
    "- SNP: replaced.\n",
    "- __fusion__: chromosomal translocation/ interstitial deletion/ chromosomal inversion. Taking overall average of substitution table. Adding 1 column to notice a fusion mutation.\n",
    "- __fs__ : frameshift by indel (delection/insertion) that causes change in reading frame. Number of indel is varying. Then take average of substitution score of deletion and insertion. Adding 1 column to notice a frameshift mutation.\n",
    "- __truncating mutation__: means shortening reading frame --> a type of frameshift mutation\n",
    "- __overexpression__: gene expression is higher than normal level. Adding 1 column to notice a overexpression mutation.\n",
    "- __splice__: indel/substitution mutation at splice site of pre-mature mRNA. Adding 1 column to notice a splice mutation.\n",
    "\n",
    "![variation_categor.png](variation_categor.png)"
   ]
  },
  {
   "cell_type": "code",
   "execution_count": 4,
   "metadata": {
    "ExecuteTime": {
     "end_time": "2022-03-01T17:15:07.209622Z",
     "start_time": "2022-03-01T17:15:07.174231Z"
    }
   },
   "outputs": [
    {
     "name": "stdout",
     "output_type": "stream",
     "text": [
      "-2.0\n"
     ]
    },
    {
     "name": "stderr",
     "output_type": "stream",
     "text": [
      "/Users/tienle/opt/anaconda3/lib/python3.7/site-packages/Bio/SubsMat/__init__.py:131: BiopythonDeprecationWarning: Bio.SubsMat has been deprecated, and we intend to remove it in a future release of Biopython. As an alternative, please consider using Bio.Align.substitution_matrices as a replacement, and contact the Biopython developers if you still need the Bio.SubsMat module.\n",
      "  BiopythonDeprecationWarning,\n"
     ]
    },
    {
     "data": {
      "text/plain": [
       "1"
      ]
     },
     "execution_count": 4,
     "metadata": {},
     "output_type": "execute_result"
    }
   ],
   "source": [
    "## Import BLOSSUM62 matrix\n",
    "## (a.a, *) = -4 for all a.a\n",
    "from Bio.SubsMat import MatrixInfo    \n",
    "blosum = MatrixInfo.blosum62 \n",
    "avg_score = 0\n",
    "count = 0\n",
    "for (k1, k2) in blosum:\n",
    "    if k1 != k2:\n",
    "        avg_score += blosum[(k1,k2)]\n",
    "        count += 1\n",
    "avg_score = round((avg_score+20*(-4))/(count+20),0)\n",
    "print(avg_score)\n",
    "blosum[('W', 'F')]"
   ]
  },
  {
   "cell_type": "markdown",
   "metadata": {},
   "source": [
    "## Known amino acid change"
   ]
  },
  {
   "cell_type": "markdown",
   "metadata": {},
   "source": [
    "Create column __Score__"
   ]
  },
  {
   "cell_type": "code",
   "execution_count": 5,
   "metadata": {
    "ExecuteTime": {
     "end_time": "2022-03-01T17:15:07.392436Z",
     "start_time": "2022-03-01T17:15:07.218869Z"
    }
   },
   "outputs": [
    {
     "name": "stderr",
     "output_type": "stream",
     "text": [
      "/Users/tienle/opt/anaconda3/lib/python3.7/site-packages/ipykernel_launcher.py:1: SettingWithCopyWarning: \n",
      "A value is trying to be set on a copy of a slice from a DataFrame.\n",
      "Try using .loc[row_indexer,col_indexer] = value instead\n",
      "\n",
      "See the caveats in the documentation: https://pandas.pydata.org/pandas-docs/stable/user_guide/indexing.html#returning-a-view-versus-a-copy\n",
      "  \"\"\"Entry point for launching an IPython kernel.\n"
     ]
    },
    {
     "data": {
      "text/html": [
       "<div>\n",
       "<style scoped>\n",
       "    .dataframe tbody tr th:only-of-type {\n",
       "        vertical-align: middle;\n",
       "    }\n",
       "\n",
       "    .dataframe tbody tr th {\n",
       "        vertical-align: top;\n",
       "    }\n",
       "\n",
       "    .dataframe thead th {\n",
       "        text-align: right;\n",
       "    }\n",
       "</style>\n",
       "<table border=\"1\" class=\"dataframe\">\n",
       "  <thead>\n",
       "    <tr style=\"text-align: right;\">\n",
       "      <th></th>\n",
       "      <th>ID</th>\n",
       "      <th>Variation</th>\n",
       "      <th>Variation_old</th>\n",
       "      <th>Standard</th>\n",
       "      <th>Score</th>\n",
       "      <th>Known_del</th>\n",
       "    </tr>\n",
       "  </thead>\n",
       "  <tbody>\n",
       "    <tr>\n",
       "      <th>0</th>\n",
       "      <td>0</td>\n",
       "      <td>Truncating Mutations</td>\n",
       "      <td>Truncating Mutations</td>\n",
       "      <td>False</td>\n",
       "      <td>NaN</td>\n",
       "      <td>NaN</td>\n",
       "    </tr>\n",
       "    <tr>\n",
       "      <th>1</th>\n",
       "      <td>1</td>\n",
       "      <td>W802*</td>\n",
       "      <td>W802*</td>\n",
       "      <td>True</td>\n",
       "      <td>-4.0</td>\n",
       "      <td>True</td>\n",
       "    </tr>\n",
       "    <tr>\n",
       "      <th>2</th>\n",
       "      <td>2</td>\n",
       "      <td>Q249E</td>\n",
       "      <td>Q249E</td>\n",
       "      <td>True</td>\n",
       "      <td>2.0</td>\n",
       "      <td>False</td>\n",
       "    </tr>\n",
       "    <tr>\n",
       "      <th>3</th>\n",
       "      <td>3</td>\n",
       "      <td>N454D</td>\n",
       "      <td>N454D</td>\n",
       "      <td>True</td>\n",
       "      <td>1.0</td>\n",
       "      <td>False</td>\n",
       "    </tr>\n",
       "    <tr>\n",
       "      <th>4</th>\n",
       "      <td>4</td>\n",
       "      <td>L399V</td>\n",
       "      <td>L399V</td>\n",
       "      <td>True</td>\n",
       "      <td>1.0</td>\n",
       "      <td>False</td>\n",
       "    </tr>\n",
       "  </tbody>\n",
       "</table>\n",
       "</div>"
      ],
      "text/plain": [
       "   ID             Variation         Variation_old  Standard  Score Known_del\n",
       "0   0  Truncating Mutations  Truncating Mutations     False    NaN       NaN\n",
       "1   1                 W802*                 W802*      True   -4.0      True\n",
       "2   2                 Q249E                 Q249E      True    2.0     False\n",
       "3   3                 N454D                 N454D      True    1.0     False\n",
       "4   4                 L399V                 L399V      True    1.0     False"
      ]
     },
     "execution_count": 5,
     "metadata": {},
     "output_type": "execute_result"
    }
   ],
   "source": [
    "training_variation[\"Variation_old\"] = training_variation[\"Variation\"].copy()\n",
    "\n",
    "## Clean variation name in standard form but with \"del\" instead of \"*\"\n",
    "del_pattern = re.compile(\"^[*\\w]\\d+del$\", re.IGNORECASE)\n",
    "training_variation[\"Del\"] = training_variation[\"Variation\"].str.match(del_pattern)\n",
    "training_variation.loc[training_variation[\"Del\"] == True\n",
    "                       , \"Variation\"] = training_variation.loc[training_variation[\"Del\"] == True\n",
    "                                                                   , \"Variation\"].str.replace('del$', '*', regex=True, flags=re.IGNORECASE)\n",
    "\n",
    "\n",
    "## Detect variation with standard name\n",
    "stand_pattern = re.compile(\"^[*\\w]\\d+[\\w*]$\", re.IGNORECASE)\n",
    "training_variation[\"Standard\"] = training_variation[\"Variation\"].str.match(stand_pattern)\n",
    "training_variation.loc[training_variation['Standard'] == True, \"Standard-last\"] = training_variation.loc[training_variation['Standard'] == True, \"Variation\"].str.slice(start=-1)\n",
    "training_variation.loc[training_variation['Standard'] == True, \"Standard-first\"] = training_variation.loc[training_variation['Standard'] == True, \"Variation\"].str.slice(stop=1)\n",
    "training_variation[\"Standard-tuple\"] = list(zip(training_variation[\"Standard-last\"]\n",
    "                                                , training_variation[\"Standard-first\"]))\n",
    "\n",
    "def map_blosum(x,y):\n",
    "    if x.isnumeric():\n",
    "        x = \"*\"\n",
    "    if y.isnumeric():\n",
    "        y = \"*\"\n",
    "    if ((x==\"*\") | (y==\"*\")):\n",
    "        return -4\n",
    "    else:\n",
    "        try:\n",
    "            return blosum[(x,y)]\n",
    "        except KeyError:\n",
    "            return blosum[(y,x)]\n",
    "\n",
    "training_variation.loc[training_variation['Standard'] == True\n",
    "                       , \"Score\"] = training_variation.loc[training_variation['Standard'] == True\n",
    "                                                           , \"Standard-tuple\"].apply(lambda x: map_blosum(x[0],x[1]))\n",
    "\n",
    "training_variation.loc[training_variation['Standard'] == True\n",
    "                       , \"Known_del\"] = training_variation.loc[training_variation['Standard'] == True\n",
    "                                                           , \"Standard-tuple\"].apply(lambda x: True if ((x[0]==\"*\") | (x[1]==\"*\")) else False)\n",
    "\n",
    "\n",
    "\n",
    "## Delete unused columns\n",
    "training_variation.drop([\"Del\", \"Standard-tuple\", \"Standard-last\", \"Standard-first\"], axis=1, inplace=True)\n",
    "\n",
    "training_variation.head()"
   ]
  },
  {
   "cell_type": "markdown",
   "metadata": {},
   "source": [
    "## Unknown amino acid change"
   ]
  },
  {
   "cell_type": "markdown",
   "metadata": {},
   "source": [
    "### Fusion"
   ]
  },
  {
   "cell_type": "code",
   "execution_count": 6,
   "metadata": {
    "ExecuteTime": {
     "end_time": "2022-03-01T17:15:07.424348Z",
     "start_time": "2022-03-01T17:15:07.396875Z"
    }
   },
   "outputs": [],
   "source": [
    "fusion_pattern = re.compile(\"^(.*)(Fusion|Fusions)(.*)$\", re.IGNORECASE)\n",
    "training_variation[\"Fusion\"] = training_variation[\"Variation\"].str.match(fusion_pattern)\n",
    "training_variation.loc[training_variation[\"Fusion\"]==True, \"Score\"] = -2"
   ]
  },
  {
   "cell_type": "markdown",
   "metadata": {},
   "source": [
    "### Splice"
   ]
  },
  {
   "cell_type": "code",
   "execution_count": 7,
   "metadata": {
    "ExecuteTime": {
     "end_time": "2022-03-01T17:15:07.465444Z",
     "start_time": "2022-03-01T17:15:07.434040Z"
    }
   },
   "outputs": [],
   "source": [
    "splice_pattern = re.compile(\"^(.*)splice(.*)$\", re.IGNORECASE)\n",
    "training_variation[\"Splice\"] = training_variation[\"Variation\"].str.match(splice_pattern)\n",
    "training_variation.loc[training_variation[\"Splice\"]==True, \"Score\"] = -2"
   ]
  },
  {
   "cell_type": "markdown",
   "metadata": {},
   "source": [
    "### Overexpression/underexpression"
   ]
  },
  {
   "cell_type": "code",
   "execution_count": 8,
   "metadata": {
    "ExecuteTime": {
     "end_time": "2022-03-01T17:15:07.488039Z",
     "start_time": "2022-03-01T17:15:07.474725Z"
    }
   },
   "outputs": [],
   "source": [
    "expression_pattern = re.compile(\"^(.*)(expression|amplif|copy number|copies number)(.*)$\", re.IGNORECASE)\n",
    "training_variation[\"Expression\"] = training_variation[\"Variation\"].str.match(expression_pattern)"
   ]
  },
  {
   "cell_type": "code",
   "execution_count": 9,
   "metadata": {
    "ExecuteTime": {
     "end_time": "2022-03-01T17:15:07.519602Z",
     "start_time": "2022-03-01T17:15:07.499190Z"
    }
   },
   "outputs": [],
   "source": [
    "duplicate_pattern = re.compile(\"(.*)\\ddup$\", re.IGNORECASE)\n",
    "training_variation[\"Duplicate\"] = training_variation[\"Variation\"].str.match(duplicate_pattern)\n",
    "training_variation.loc[training_variation[\"Duplicate\"] == True, \"Expression\"] = True"
   ]
  },
  {
   "cell_type": "code",
   "execution_count": 10,
   "metadata": {
    "ExecuteTime": {
     "end_time": "2022-03-01T17:15:07.538490Z",
     "start_time": "2022-03-01T17:15:07.523768Z"
    }
   },
   "outputs": [],
   "source": [
    "training_variation.loc[training_variation[\"Expression\"]==True, \"Score\"] = -4"
   ]
  },
  {
   "cell_type": "markdown",
   "metadata": {},
   "source": [
    "### Frameshift"
   ]
  },
  {
   "cell_type": "code",
   "execution_count": 11,
   "metadata": {
    "ExecuteTime": {
     "end_time": "2022-03-01T17:15:07.572252Z",
     "start_time": "2022-03-01T17:15:07.547230Z"
    }
   },
   "outputs": [],
   "source": [
    "expression_pattern = re.compile(\"^\\w+\\d+[\\w+]fs[*]*[\\d+]*$\", re.IGNORECASE)\n",
    "training_variation[\"Frameshift\"] = training_variation[\"Variation\"].str.match(expression_pattern)\n",
    "training_variation.loc[training_variation[\"Frameshift\"]==True, \"Score\"] = -4"
   ]
  },
  {
   "cell_type": "markdown",
   "metadata": {},
   "source": [
    "#### Unknown truncating"
   ]
  },
  {
   "cell_type": "code",
   "execution_count": 12,
   "metadata": {
    "ExecuteTime": {
     "end_time": "2022-03-01T17:15:07.626541Z",
     "start_time": "2022-03-01T17:15:07.589644Z"
    }
   },
   "outputs": [],
   "source": [
    "truncate_pattern = re.compile(\"^(.*)(truncat|trunc)(.*)$\", re.IGNORECASE)\n",
    "training_variation[\"Truncate\"] = training_variation[\"Variation\"].str.match(truncate_pattern)\n",
    "training_variation.loc[training_variation[\"Truncate\"]==True, \"Score\"] = -4"
   ]
  },
  {
   "cell_type": "markdown",
   "metadata": {},
   "source": [
    "#### Unknown deletion"
   ]
  },
  {
   "cell_type": "code",
   "execution_count": 13,
   "metadata": {
    "ExecuteTime": {
     "end_time": "2022-03-01T17:15:07.700043Z",
     "start_time": "2022-03-01T17:15:07.665862Z"
    }
   },
   "outputs": [],
   "source": [
    "deletion_pattern = re.compile(\"^(.*)(delete|del|deltion)(.*)$\", re.IGNORECASE)\n",
    "training_variation[\"Unknown_deletion\"] = training_variation[\"Variation\"].str.match(deletion_pattern)\n",
    "training_variation.loc[training_variation[\"Unknown_deletion\"]==True, \"Score\"] = -4"
   ]
  },
  {
   "cell_type": "markdown",
   "metadata": {},
   "source": [
    "#### Unknown insertion"
   ]
  },
  {
   "cell_type": "code",
   "execution_count": 14,
   "metadata": {
    "ExecuteTime": {
     "end_time": "2022-03-01T17:15:07.739259Z",
     "start_time": "2022-03-01T17:15:07.706646Z"
    }
   },
   "outputs": [],
   "source": [
    "insertion_pattern = re.compile(\"^(.*)(insert|ins)(.*)$\", re.IGNORECASE)\n",
    "training_variation[\"Unknown_insertion\"] = training_variation[\"Variation\"].str.match(insertion_pattern)\n",
    "training_variation.loc[training_variation[\"Unknown_insertion\"]==True, \"Score\"] = -4"
   ]
  },
  {
   "cell_type": "markdown",
   "metadata": {},
   "source": [
    "#### Final setup for frameshift"
   ]
  },
  {
   "cell_type": "code",
   "execution_count": 15,
   "metadata": {
    "ExecuteTime": {
     "end_time": "2022-03-01T17:15:07.757514Z",
     "start_time": "2022-03-01T17:15:07.744982Z"
    }
   },
   "outputs": [],
   "source": [
    "training_variation.loc[(training_variation.Truncate == True)\n",
    "                       | (training_variation.Unknown_deletion == True)\n",
    "                       | (training_variation.Unknown_insertion == True)\n",
    "                       | (training_variation.Known_del == True)\n",
    "                       , \"Frameshift\"\n",
    "                      ] = True"
   ]
  },
  {
   "cell_type": "code",
   "execution_count": 16,
   "metadata": {
    "ExecuteTime": {
     "end_time": "2022-03-01T17:15:07.787030Z",
     "start_time": "2022-03-01T17:15:07.770515Z"
    }
   },
   "outputs": [
    {
     "data": {
      "text/plain": [
       "Index(['ID', 'Variation', 'Variation_old', 'Standard', 'Score', 'Known_del',\n",
       "       'Fusion', 'Splice', 'Expression', 'Duplicate', 'Frameshift', 'Truncate',\n",
       "       'Unknown_deletion', 'Unknown_insertion'],\n",
       "      dtype='object')"
      ]
     },
     "execution_count": 16,
     "metadata": {},
     "output_type": "execute_result"
    }
   ],
   "source": [
    "training_variation.columns"
   ]
  },
  {
   "cell_type": "markdown",
   "metadata": {
    "ExecuteTime": {
     "end_time": "2022-02-21T14:40:56.627750Z",
     "start_time": "2022-02-21T14:40:56.592317Z"
    }
   },
   "source": [
    "## Other mutations\n",
    "\n",
    "Set average substitution score to un-categorized mutations"
   ]
  },
  {
   "cell_type": "code",
   "execution_count": 17,
   "metadata": {
    "ExecuteTime": {
     "end_time": "2022-03-01T17:15:07.815457Z",
     "start_time": "2022-03-01T17:15:07.793804Z"
    }
   },
   "outputs": [],
   "source": [
    "training_variation.loc[(training_variation.Standard == False)\n",
    "                       & (training_variation.Fusion == False)\n",
    "                       & (training_variation.Splice == False)\n",
    "                       & (training_variation.Expression == False)\n",
    "                       & (training_variation.Frameshift == False)\n",
    "                       & (training_variation.Score.isnull())\n",
    "                      , \"Score\"] = -2"
   ]
  },
  {
   "cell_type": "markdown",
   "metadata": {},
   "source": [
    "## Check"
   ]
  },
  {
   "cell_type": "markdown",
   "metadata": {},
   "source": [
    "### Combination of mutation types"
   ]
  },
  {
   "cell_type": "code",
   "execution_count": 18,
   "metadata": {
    "ExecuteTime": {
     "end_time": "2022-03-01T17:15:07.878117Z",
     "start_time": "2022-03-01T17:15:07.821873Z"
    }
   },
   "outputs": [
    {
     "data": {
      "text/html": [
       "<div>\n",
       "<style scoped>\n",
       "    .dataframe tbody tr th:only-of-type {\n",
       "        vertical-align: middle;\n",
       "    }\n",
       "\n",
       "    .dataframe tbody tr th {\n",
       "        vertical-align: top;\n",
       "    }\n",
       "\n",
       "    .dataframe thead th {\n",
       "        text-align: right;\n",
       "    }\n",
       "</style>\n",
       "<table border=\"1\" class=\"dataframe\">\n",
       "  <thead>\n",
       "    <tr style=\"text-align: right;\">\n",
       "      <th></th>\n",
       "      <th>Standard</th>\n",
       "      <th>Known_del</th>\n",
       "      <th>Fusion</th>\n",
       "      <th>Splice</th>\n",
       "      <th>Expression</th>\n",
       "      <th>Frameshift</th>\n",
       "      <th>Truncate</th>\n",
       "      <th>Unknown_deletion</th>\n",
       "      <th>Unknown_insertion</th>\n",
       "    </tr>\n",
       "  </thead>\n",
       "  <tbody>\n",
       "    <tr>\n",
       "      <th>0</th>\n",
       "      <td>False</td>\n",
       "      <td>NaN</td>\n",
       "      <td>False</td>\n",
       "      <td>False</td>\n",
       "      <td>False</td>\n",
       "      <td>True</td>\n",
       "      <td>True</td>\n",
       "      <td>False</td>\n",
       "      <td>False</td>\n",
       "    </tr>\n",
       "    <tr>\n",
       "      <th>1</th>\n",
       "      <td>True</td>\n",
       "      <td>True</td>\n",
       "      <td>False</td>\n",
       "      <td>False</td>\n",
       "      <td>False</td>\n",
       "      <td>True</td>\n",
       "      <td>False</td>\n",
       "      <td>False</td>\n",
       "      <td>False</td>\n",
       "    </tr>\n",
       "    <tr>\n",
       "      <th>2</th>\n",
       "      <td>True</td>\n",
       "      <td>False</td>\n",
       "      <td>False</td>\n",
       "      <td>False</td>\n",
       "      <td>False</td>\n",
       "      <td>False</td>\n",
       "      <td>False</td>\n",
       "      <td>False</td>\n",
       "      <td>False</td>\n",
       "    </tr>\n",
       "    <tr>\n",
       "      <th>7</th>\n",
       "      <td>False</td>\n",
       "      <td>NaN</td>\n",
       "      <td>False</td>\n",
       "      <td>False</td>\n",
       "      <td>False</td>\n",
       "      <td>True</td>\n",
       "      <td>False</td>\n",
       "      <td>True</td>\n",
       "      <td>False</td>\n",
       "    </tr>\n",
       "    <tr>\n",
       "      <th>31</th>\n",
       "      <td>False</td>\n",
       "      <td>NaN</td>\n",
       "      <td>False</td>\n",
       "      <td>False</td>\n",
       "      <td>False</td>\n",
       "      <td>False</td>\n",
       "      <td>False</td>\n",
       "      <td>False</td>\n",
       "      <td>False</td>\n",
       "    </tr>\n",
       "    <tr>\n",
       "      <th>33</th>\n",
       "      <td>False</td>\n",
       "      <td>NaN</td>\n",
       "      <td>False</td>\n",
       "      <td>False</td>\n",
       "      <td>True</td>\n",
       "      <td>False</td>\n",
       "      <td>False</td>\n",
       "      <td>False</td>\n",
       "      <td>False</td>\n",
       "    </tr>\n",
       "    <tr>\n",
       "      <th>72</th>\n",
       "      <td>False</td>\n",
       "      <td>NaN</td>\n",
       "      <td>False</td>\n",
       "      <td>False</td>\n",
       "      <td>False</td>\n",
       "      <td>True</td>\n",
       "      <td>False</td>\n",
       "      <td>False</td>\n",
       "      <td>False</td>\n",
       "    </tr>\n",
       "    <tr>\n",
       "      <th>138</th>\n",
       "      <td>False</td>\n",
       "      <td>NaN</td>\n",
       "      <td>False</td>\n",
       "      <td>False</td>\n",
       "      <td>False</td>\n",
       "      <td>True</td>\n",
       "      <td>False</td>\n",
       "      <td>True</td>\n",
       "      <td>True</td>\n",
       "    </tr>\n",
       "    <tr>\n",
       "      <th>146</th>\n",
       "      <td>False</td>\n",
       "      <td>NaN</td>\n",
       "      <td>False</td>\n",
       "      <td>False</td>\n",
       "      <td>False</td>\n",
       "      <td>True</td>\n",
       "      <td>False</td>\n",
       "      <td>False</td>\n",
       "      <td>True</td>\n",
       "    </tr>\n",
       "    <tr>\n",
       "      <th>164</th>\n",
       "      <td>False</td>\n",
       "      <td>NaN</td>\n",
       "      <td>True</td>\n",
       "      <td>False</td>\n",
       "      <td>False</td>\n",
       "      <td>False</td>\n",
       "      <td>False</td>\n",
       "      <td>False</td>\n",
       "      <td>False</td>\n",
       "    </tr>\n",
       "    <tr>\n",
       "      <th>285</th>\n",
       "      <td>False</td>\n",
       "      <td>NaN</td>\n",
       "      <td>False</td>\n",
       "      <td>True</td>\n",
       "      <td>False</td>\n",
       "      <td>False</td>\n",
       "      <td>False</td>\n",
       "      <td>False</td>\n",
       "      <td>False</td>\n",
       "    </tr>\n",
       "    <tr>\n",
       "      <th>326</th>\n",
       "      <td>False</td>\n",
       "      <td>NaN</td>\n",
       "      <td>True</td>\n",
       "      <td>False</td>\n",
       "      <td>False</td>\n",
       "      <td>True</td>\n",
       "      <td>False</td>\n",
       "      <td>True</td>\n",
       "      <td>False</td>\n",
       "    </tr>\n",
       "  </tbody>\n",
       "</table>\n",
       "</div>"
      ],
      "text/plain": [
       "     Standard Known_del  Fusion  Splice  Expression  Frameshift  Truncate  \\\n",
       "0       False       NaN   False   False       False        True      True   \n",
       "1        True      True   False   False       False        True     False   \n",
       "2        True     False   False   False       False       False     False   \n",
       "7       False       NaN   False   False       False        True     False   \n",
       "31      False       NaN   False   False       False       False     False   \n",
       "33      False       NaN   False   False        True       False     False   \n",
       "72      False       NaN   False   False       False        True     False   \n",
       "138     False       NaN   False   False       False        True     False   \n",
       "146     False       NaN   False   False       False        True     False   \n",
       "164     False       NaN    True   False       False       False     False   \n",
       "285     False       NaN   False    True       False       False     False   \n",
       "326     False       NaN    True   False       False        True     False   \n",
       "\n",
       "     Unknown_deletion  Unknown_insertion  \n",
       "0               False              False  \n",
       "1               False              False  \n",
       "2               False              False  \n",
       "7                True              False  \n",
       "31              False              False  \n",
       "33              False              False  \n",
       "72              False              False  \n",
       "138              True               True  \n",
       "146             False               True  \n",
       "164             False              False  \n",
       "285             False              False  \n",
       "326              True              False  "
      ]
     },
     "execution_count": 18,
     "metadata": {},
     "output_type": "execute_result"
    }
   ],
   "source": [
    "training_variation[['Standard', 'Known_del',\n",
    "       'Fusion', 'Splice', 'Expression', 'Frameshift', 'Truncate',\n",
    "       'Unknown_deletion', 'Unknown_insertion']].drop_duplicates()"
   ]
  },
  {
   "cell_type": "code",
   "execution_count": 19,
   "metadata": {
    "ExecuteTime": {
     "end_time": "2022-03-01T17:15:07.939687Z",
     "start_time": "2022-03-01T17:15:07.885514Z"
    }
   },
   "outputs": [
    {
     "data": {
      "text/html": [
       "<div>\n",
       "<style scoped>\n",
       "    .dataframe tbody tr th:only-of-type {\n",
       "        vertical-align: middle;\n",
       "    }\n",
       "\n",
       "    .dataframe tbody tr th {\n",
       "        vertical-align: top;\n",
       "    }\n",
       "\n",
       "    .dataframe thead th {\n",
       "        text-align: right;\n",
       "    }\n",
       "</style>\n",
       "<table border=\"1\" class=\"dataframe\">\n",
       "  <thead>\n",
       "    <tr style=\"text-align: right;\">\n",
       "      <th></th>\n",
       "      <th>ID</th>\n",
       "      <th>Variation</th>\n",
       "      <th>Variation_old</th>\n",
       "      <th>Standard</th>\n",
       "      <th>Score</th>\n",
       "      <th>Known_del</th>\n",
       "      <th>Fusion</th>\n",
       "      <th>Splice</th>\n",
       "      <th>Expression</th>\n",
       "      <th>Duplicate</th>\n",
       "      <th>Frameshift</th>\n",
       "      <th>Truncate</th>\n",
       "      <th>Unknown_deletion</th>\n",
       "      <th>Unknown_insertion</th>\n",
       "    </tr>\n",
       "  </thead>\n",
       "  <tbody>\n",
       "    <tr>\n",
       "      <th>326</th>\n",
       "      <td>326</td>\n",
       "      <td>KDELR2-ROS1 Fusion</td>\n",
       "      <td>KDELR2-ROS1 Fusion</td>\n",
       "      <td>False</td>\n",
       "      <td>-4.0</td>\n",
       "      <td>NaN</td>\n",
       "      <td>True</td>\n",
       "      <td>False</td>\n",
       "      <td>False</td>\n",
       "      <td>False</td>\n",
       "      <td>True</td>\n",
       "      <td>False</td>\n",
       "      <td>True</td>\n",
       "      <td>False</td>\n",
       "    </tr>\n",
       "    <tr>\n",
       "      <th>3223</th>\n",
       "      <td>3223</td>\n",
       "      <td>Delta-NTRK1 Fusion</td>\n",
       "      <td>Delta-NTRK1 Fusion</td>\n",
       "      <td>False</td>\n",
       "      <td>-4.0</td>\n",
       "      <td>NaN</td>\n",
       "      <td>True</td>\n",
       "      <td>False</td>\n",
       "      <td>False</td>\n",
       "      <td>False</td>\n",
       "      <td>True</td>\n",
       "      <td>False</td>\n",
       "      <td>True</td>\n",
       "      <td>False</td>\n",
       "    </tr>\n",
       "  </tbody>\n",
       "</table>\n",
       "</div>"
      ],
      "text/plain": [
       "        ID           Variation       Variation_old  Standard  Score Known_del  \\\n",
       "326    326  KDELR2-ROS1 Fusion  KDELR2-ROS1 Fusion     False   -4.0       NaN   \n",
       "3223  3223  Delta-NTRK1 Fusion  Delta-NTRK1 Fusion     False   -4.0       NaN   \n",
       "\n",
       "      Fusion  Splice  Expression  Duplicate  Frameshift  Truncate  \\\n",
       "326     True   False       False      False        True     False   \n",
       "3223    True   False       False      False        True     False   \n",
       "\n",
       "      Unknown_deletion  Unknown_insertion  \n",
       "326               True              False  \n",
       "3223              True              False  "
      ]
     },
     "execution_count": 19,
     "metadata": {},
     "output_type": "execute_result"
    }
   ],
   "source": [
    "training_variation.loc[(training_variation.Fusion == True) & (training_variation.Frameshift == True)]"
   ]
  },
  {
   "cell_type": "markdown",
   "metadata": {},
   "source": [
    "#### Clean unexpected combination\n",
    "\n",
    "- Fusion == Frameshift : then choose Fusion (score=-2)\n",
    "- Splice == Frameshift : then choose Splice (score=-2)\n",
    "- Fusion == Expression : then choose Expression\n",
    "- Splice == Expression : then choose Expression"
   ]
  },
  {
   "cell_type": "code",
   "execution_count": 20,
   "metadata": {
    "ExecuteTime": {
     "end_time": "2022-03-01T17:15:07.962714Z",
     "start_time": "2022-03-01T17:15:07.945982Z"
    }
   },
   "outputs": [],
   "source": [
    "## Fusion == Frameshift : then choose Fusion (score=-2)\n",
    "training_variation.loc[(training_variation.Fusion == True) \n",
    "                       & (training_variation.Frameshift == True)\n",
    "                      , \"Score\"] = -2\n",
    "training_variation.loc[(training_variation.Fusion == True) \n",
    "                       & (training_variation.Frameshift == True)\n",
    "                      , \"Frameshift\"] = False"
   ]
  },
  {
   "cell_type": "code",
   "execution_count": 21,
   "metadata": {
    "ExecuteTime": {
     "end_time": "2022-03-01T17:15:07.989051Z",
     "start_time": "2022-03-01T17:15:07.968286Z"
    }
   },
   "outputs": [],
   "source": [
    "## Splice == Frameshift : then choose Splice (score=-2)\n",
    "training_variation.loc[(training_variation.Splice == True) \n",
    "                       & (training_variation.Frameshift == True)\n",
    "                      , \"Score\"] = -2\n",
    "training_variation.loc[(training_variation.Splice == True) \n",
    "                       & (training_variation.Frameshift == True)\n",
    "                      , \"Frameshift\"] = False"
   ]
  },
  {
   "cell_type": "code",
   "execution_count": 22,
   "metadata": {
    "ExecuteTime": {
     "end_time": "2022-03-01T17:15:08.007026Z",
     "start_time": "2022-03-01T17:15:07.993727Z"
    }
   },
   "outputs": [],
   "source": [
    "## Fusion == Expression : then choose Expression\n",
    "# training_variation.loc[(training_variation.Fusion == True) \n",
    "#                        & (training_variation.Expression == True)\n",
    "#                       , \"Score\"] =\n",
    "training_variation.loc[(training_variation.Fusion == True) \n",
    "                       & (training_variation.Expression == True)\n",
    "                      , \"Fusion\"] = False"
   ]
  },
  {
   "cell_type": "code",
   "execution_count": 23,
   "metadata": {
    "ExecuteTime": {
     "end_time": "2022-03-01T17:15:08.031529Z",
     "start_time": "2022-03-01T17:15:08.019330Z"
    }
   },
   "outputs": [],
   "source": [
    "## Splice == Expression : then choose Expression\n",
    "# training_variation.loc[(training_variation.Splice == True) \n",
    "#                        & (training_variation.Expression == True)\n",
    "#                       , \"Score\"] =\n",
    "training_variation.loc[(training_variation.Splice == True) \n",
    "                       & (training_variation.Expression == True)\n",
    "                      , \"Splice\"] = False"
   ]
  },
  {
   "cell_type": "markdown",
   "metadata": {},
   "source": [
    "### Null score"
   ]
  },
  {
   "cell_type": "code",
   "execution_count": 24,
   "metadata": {
    "ExecuteTime": {
     "end_time": "2022-03-01T17:15:08.092624Z",
     "start_time": "2022-03-01T17:15:08.037458Z"
    }
   },
   "outputs": [
    {
     "data": {
      "text/html": [
       "<div>\n",
       "<style scoped>\n",
       "    .dataframe tbody tr th:only-of-type {\n",
       "        vertical-align: middle;\n",
       "    }\n",
       "\n",
       "    .dataframe tbody tr th {\n",
       "        vertical-align: top;\n",
       "    }\n",
       "\n",
       "    .dataframe thead th {\n",
       "        text-align: right;\n",
       "    }\n",
       "</style>\n",
       "<table border=\"1\" class=\"dataframe\">\n",
       "  <thead>\n",
       "    <tr style=\"text-align: right;\">\n",
       "      <th></th>\n",
       "      <th>ID</th>\n",
       "      <th>Variation</th>\n",
       "      <th>Variation_old</th>\n",
       "      <th>Standard</th>\n",
       "      <th>Score</th>\n",
       "      <th>Known_del</th>\n",
       "      <th>Fusion</th>\n",
       "      <th>Splice</th>\n",
       "      <th>Expression</th>\n",
       "      <th>Duplicate</th>\n",
       "      <th>Frameshift</th>\n",
       "      <th>Truncate</th>\n",
       "      <th>Unknown_deletion</th>\n",
       "      <th>Unknown_insertion</th>\n",
       "    </tr>\n",
       "  </thead>\n",
       "  <tbody>\n",
       "  </tbody>\n",
       "</table>\n",
       "</div>"
      ],
      "text/plain": [
       "Empty DataFrame\n",
       "Columns: [ID, Variation, Variation_old, Standard, Score, Known_del, Fusion, Splice, Expression, Duplicate, Frameshift, Truncate, Unknown_deletion, Unknown_insertion]\n",
       "Index: []"
      ]
     },
     "execution_count": 24,
     "metadata": {},
     "output_type": "execute_result"
    }
   ],
   "source": [
    "training_variation.loc[training_variation[\"Score\"].isnull()].to_csv(\"check.csv\")\n",
    "training_variation.loc[training_variation[\"Score\"].isnull()]"
   ]
  },
  {
   "cell_type": "markdown",
   "metadata": {},
   "source": [
    "### Data description"
   ]
  },
  {
   "cell_type": "code",
   "execution_count": 25,
   "metadata": {
    "ExecuteTime": {
     "end_time": "2022-03-01T17:15:08.227416Z",
     "start_time": "2022-03-01T17:15:08.112115Z"
    }
   },
   "outputs": [
    {
     "data": {
      "text/html": [
       "<div>\n",
       "<style scoped>\n",
       "    .dataframe tbody tr th:only-of-type {\n",
       "        vertical-align: middle;\n",
       "    }\n",
       "\n",
       "    .dataframe tbody tr th {\n",
       "        vertical-align: top;\n",
       "    }\n",
       "\n",
       "    .dataframe thead th {\n",
       "        text-align: right;\n",
       "    }\n",
       "</style>\n",
       "<table border=\"1\" class=\"dataframe\">\n",
       "  <thead>\n",
       "    <tr style=\"text-align: right;\">\n",
       "      <th></th>\n",
       "      <th>ID</th>\n",
       "      <th>Variation</th>\n",
       "      <th>Variation_old</th>\n",
       "      <th>Standard</th>\n",
       "      <th>Score</th>\n",
       "      <th>Known_del</th>\n",
       "      <th>Fusion</th>\n",
       "      <th>Splice</th>\n",
       "      <th>Expression</th>\n",
       "      <th>Duplicate</th>\n",
       "      <th>Frameshift</th>\n",
       "      <th>Truncate</th>\n",
       "      <th>Unknown_deletion</th>\n",
       "      <th>Unknown_insertion</th>\n",
       "    </tr>\n",
       "  </thead>\n",
       "  <tbody>\n",
       "    <tr>\n",
       "      <th>count</th>\n",
       "      <td>3321.000000</td>\n",
       "      <td>3321</td>\n",
       "      <td>3321</td>\n",
       "      <td>3321</td>\n",
       "      <td>3321.000000</td>\n",
       "      <td>2675</td>\n",
       "      <td>3321</td>\n",
       "      <td>3321</td>\n",
       "      <td>3321</td>\n",
       "      <td>3321</td>\n",
       "      <td>3321</td>\n",
       "      <td>3321</td>\n",
       "      <td>3321</td>\n",
       "      <td>3321</td>\n",
       "    </tr>\n",
       "    <tr>\n",
       "      <th>unique</th>\n",
       "      <td>NaN</td>\n",
       "      <td>2996</td>\n",
       "      <td>2996</td>\n",
       "      <td>2</td>\n",
       "      <td>NaN</td>\n",
       "      <td>2</td>\n",
       "      <td>2</td>\n",
       "      <td>2</td>\n",
       "      <td>2</td>\n",
       "      <td>2</td>\n",
       "      <td>2</td>\n",
       "      <td>2</td>\n",
       "      <td>2</td>\n",
       "      <td>2</td>\n",
       "    </tr>\n",
       "    <tr>\n",
       "      <th>top</th>\n",
       "      <td>NaN</td>\n",
       "      <td>Truncating Mutations</td>\n",
       "      <td>Truncating Mutations</td>\n",
       "      <td>True</td>\n",
       "      <td>NaN</td>\n",
       "      <td>False</td>\n",
       "      <td>False</td>\n",
       "      <td>False</td>\n",
       "      <td>False</td>\n",
       "      <td>False</td>\n",
       "      <td>False</td>\n",
       "      <td>False</td>\n",
       "      <td>False</td>\n",
       "      <td>False</td>\n",
       "    </tr>\n",
       "    <tr>\n",
       "      <th>freq</th>\n",
       "      <td>NaN</td>\n",
       "      <td>93</td>\n",
       "      <td>93</td>\n",
       "      <td>2675</td>\n",
       "      <td>NaN</td>\n",
       "      <td>2593</td>\n",
       "      <td>3139</td>\n",
       "      <td>3309</td>\n",
       "      <td>3231</td>\n",
       "      <td>3309</td>\n",
       "      <td>2904</td>\n",
       "      <td>3222</td>\n",
       "      <td>3144</td>\n",
       "      <td>3246</td>\n",
       "    </tr>\n",
       "    <tr>\n",
       "      <th>mean</th>\n",
       "      <td>1660.000000</td>\n",
       "      <td>NaN</td>\n",
       "      <td>NaN</td>\n",
       "      <td>NaN</td>\n",
       "      <td>-1.376995</td>\n",
       "      <td>NaN</td>\n",
       "      <td>NaN</td>\n",
       "      <td>NaN</td>\n",
       "      <td>NaN</td>\n",
       "      <td>NaN</td>\n",
       "      <td>NaN</td>\n",
       "      <td>NaN</td>\n",
       "      <td>NaN</td>\n",
       "      <td>NaN</td>\n",
       "    </tr>\n",
       "    <tr>\n",
       "      <th>std</th>\n",
       "      <td>958.834449</td>\n",
       "      <td>NaN</td>\n",
       "      <td>NaN</td>\n",
       "      <td>NaN</td>\n",
       "      <td>1.812108</td>\n",
       "      <td>NaN</td>\n",
       "      <td>NaN</td>\n",
       "      <td>NaN</td>\n",
       "      <td>NaN</td>\n",
       "      <td>NaN</td>\n",
       "      <td>NaN</td>\n",
       "      <td>NaN</td>\n",
       "      <td>NaN</td>\n",
       "      <td>NaN</td>\n",
       "    </tr>\n",
       "    <tr>\n",
       "      <th>min</th>\n",
       "      <td>0.000000</td>\n",
       "      <td>NaN</td>\n",
       "      <td>NaN</td>\n",
       "      <td>NaN</td>\n",
       "      <td>-4.000000</td>\n",
       "      <td>NaN</td>\n",
       "      <td>NaN</td>\n",
       "      <td>NaN</td>\n",
       "      <td>NaN</td>\n",
       "      <td>NaN</td>\n",
       "      <td>NaN</td>\n",
       "      <td>NaN</td>\n",
       "      <td>NaN</td>\n",
       "      <td>NaN</td>\n",
       "    </tr>\n",
       "    <tr>\n",
       "      <th>25%</th>\n",
       "      <td>830.000000</td>\n",
       "      <td>NaN</td>\n",
       "      <td>NaN</td>\n",
       "      <td>NaN</td>\n",
       "      <td>-3.000000</td>\n",
       "      <td>NaN</td>\n",
       "      <td>NaN</td>\n",
       "      <td>NaN</td>\n",
       "      <td>NaN</td>\n",
       "      <td>NaN</td>\n",
       "      <td>NaN</td>\n",
       "      <td>NaN</td>\n",
       "      <td>NaN</td>\n",
       "      <td>NaN</td>\n",
       "    </tr>\n",
       "    <tr>\n",
       "      <th>50%</th>\n",
       "      <td>1660.000000</td>\n",
       "      <td>NaN</td>\n",
       "      <td>NaN</td>\n",
       "      <td>NaN</td>\n",
       "      <td>-2.000000</td>\n",
       "      <td>NaN</td>\n",
       "      <td>NaN</td>\n",
       "      <td>NaN</td>\n",
       "      <td>NaN</td>\n",
       "      <td>NaN</td>\n",
       "      <td>NaN</td>\n",
       "      <td>NaN</td>\n",
       "      <td>NaN</td>\n",
       "      <td>NaN</td>\n",
       "    </tr>\n",
       "    <tr>\n",
       "      <th>75%</th>\n",
       "      <td>2490.000000</td>\n",
       "      <td>NaN</td>\n",
       "      <td>NaN</td>\n",
       "      <td>NaN</td>\n",
       "      <td>0.000000</td>\n",
       "      <td>NaN</td>\n",
       "      <td>NaN</td>\n",
       "      <td>NaN</td>\n",
       "      <td>NaN</td>\n",
       "      <td>NaN</td>\n",
       "      <td>NaN</td>\n",
       "      <td>NaN</td>\n",
       "      <td>NaN</td>\n",
       "      <td>NaN</td>\n",
       "    </tr>\n",
       "    <tr>\n",
       "      <th>max</th>\n",
       "      <td>3320.000000</td>\n",
       "      <td>NaN</td>\n",
       "      <td>NaN</td>\n",
       "      <td>NaN</td>\n",
       "      <td>3.000000</td>\n",
       "      <td>NaN</td>\n",
       "      <td>NaN</td>\n",
       "      <td>NaN</td>\n",
       "      <td>NaN</td>\n",
       "      <td>NaN</td>\n",
       "      <td>NaN</td>\n",
       "      <td>NaN</td>\n",
       "      <td>NaN</td>\n",
       "      <td>NaN</td>\n",
       "    </tr>\n",
       "  </tbody>\n",
       "</table>\n",
       "</div>"
      ],
      "text/plain": [
       "                 ID             Variation         Variation_old Standard  \\\n",
       "count   3321.000000                  3321                  3321     3321   \n",
       "unique          NaN                  2996                  2996        2   \n",
       "top             NaN  Truncating Mutations  Truncating Mutations     True   \n",
       "freq            NaN                    93                    93     2675   \n",
       "mean    1660.000000                   NaN                   NaN      NaN   \n",
       "std      958.834449                   NaN                   NaN      NaN   \n",
       "min        0.000000                   NaN                   NaN      NaN   \n",
       "25%      830.000000                   NaN                   NaN      NaN   \n",
       "50%     1660.000000                   NaN                   NaN      NaN   \n",
       "75%     2490.000000                   NaN                   NaN      NaN   \n",
       "max     3320.000000                   NaN                   NaN      NaN   \n",
       "\n",
       "              Score Known_del Fusion Splice Expression Duplicate Frameshift  \\\n",
       "count   3321.000000      2675   3321   3321       3321      3321       3321   \n",
       "unique          NaN         2      2      2          2         2          2   \n",
       "top             NaN     False  False  False      False     False      False   \n",
       "freq            NaN      2593   3139   3309       3231      3309       2904   \n",
       "mean      -1.376995       NaN    NaN    NaN        NaN       NaN        NaN   \n",
       "std        1.812108       NaN    NaN    NaN        NaN       NaN        NaN   \n",
       "min       -4.000000       NaN    NaN    NaN        NaN       NaN        NaN   \n",
       "25%       -3.000000       NaN    NaN    NaN        NaN       NaN        NaN   \n",
       "50%       -2.000000       NaN    NaN    NaN        NaN       NaN        NaN   \n",
       "75%        0.000000       NaN    NaN    NaN        NaN       NaN        NaN   \n",
       "max        3.000000       NaN    NaN    NaN        NaN       NaN        NaN   \n",
       "\n",
       "       Truncate Unknown_deletion Unknown_insertion  \n",
       "count      3321             3321              3321  \n",
       "unique        2                2                 2  \n",
       "top       False            False             False  \n",
       "freq       3222             3144              3246  \n",
       "mean        NaN              NaN               NaN  \n",
       "std         NaN              NaN               NaN  \n",
       "min         NaN              NaN               NaN  \n",
       "25%         NaN              NaN               NaN  \n",
       "50%         NaN              NaN               NaN  \n",
       "75%         NaN              NaN               NaN  \n",
       "max         NaN              NaN               NaN  "
      ]
     },
     "execution_count": 25,
     "metadata": {},
     "output_type": "execute_result"
    }
   ],
   "source": [
    "training_variation.describe(include=\"all\")"
   ]
  },
  {
   "cell_type": "markdown",
   "metadata": {
    "ExecuteTime": {
     "end_time": "2022-02-21T14:34:02.185708Z",
     "start_time": "2022-02-21T14:34:02.151713Z"
    }
   },
   "source": [
    "## Final training data"
   ]
  },
  {
   "cell_type": "code",
   "execution_count": 26,
   "metadata": {
    "ExecuteTime": {
     "end_time": "2022-03-01T17:15:08.264370Z",
     "start_time": "2022-03-01T17:15:08.237503Z"
    }
   },
   "outputs": [],
   "source": [
    "training_variation[[\"ID\", \"Variation_old\", \"Score\", \"Fusion\", \"Splice\", \"Expression\", \"Frameshift\"]].to_csv(final_file, index=False)"
   ]
  }
 ],
 "metadata": {
  "kernelspec": {
   "display_name": "Python 3",
   "language": "python",
   "name": "python3"
  },
  "language_info": {
   "codemirror_mode": {
    "name": "ipython",
    "version": 3
   },
   "file_extension": ".py",
   "mimetype": "text/x-python",
   "name": "python",
   "nbconvert_exporter": "python",
   "pygments_lexer": "ipython3",
   "version": "3.7.6"
  },
  "toc": {
   "base_numbering": 1,
   "nav_menu": {},
   "number_sections": true,
   "sideBar": true,
   "skip_h1_title": false,
   "title_cell": "Table of Contents",
   "title_sidebar": "Contents",
   "toc_cell": false,
   "toc_position": {},
   "toc_section_display": true,
   "toc_window_display": true
  }
 },
 "nbformat": 4,
 "nbformat_minor": 4
}
